{
 "cells": [
  {
   "cell_type": "code",
   "execution_count": 1,
   "metadata": {},
   "outputs": [],
   "source": [
    "import pandas as pd\n",
    "import numpy as np\n",
    "import matplotlib.pyplot as plt\n",
    "import json\n",
    "import sys\n",
    "import os\n",
    "import pyarrow.parquet as pq\n",
    "import torch"
   ]
  },
  {
   "cell_type": "code",
   "execution_count": 2,
   "metadata": {},
   "outputs": [],
   "source": [
    "def read_parquet_in_batches(file_path: str, batch_size=10000):\n",
    "\n",
    "    parquet_file = pq.ParquetFile(file_path)\n",
    "\n",
    "    total_rows = parquet_file.metadata.num_rows\n",
    "    processed_rows = 0\n",
    "    batches = []\n",
    "\n",
    "    for batch in parquet_file.iter_batches(batch_size=batch_size):\n",
    "        batch_df = batch.to_pandas()\n",
    "\n",
    "        processed_rows += len(batch_df)\n",
    "        progress = (processed_rows / total_rows) * 100\n",
    "        print(f'Progress: {progress:.2f}%')\n",
    "        \n",
    "        yield batch_df"
   ]
  },
  {
   "cell_type": "code",
   "execution_count": 3,
   "metadata": {},
   "outputs": [
    {
     "name": "stdout",
     "output_type": "stream",
     "text": [
      "Progress: 0.44%\n"
     ]
    }
   ],
   "source": [
    "for batch in read_parquet_in_batches(file_path='../data/train/resnet.parquet'):\n",
    "    break"
   ]
  },
  {
   "cell_type": "code",
   "execution_count": 4,
   "metadata": {},
   "outputs": [
    {
     "data": {
      "text/html": [
       "<div>\n",
       "<style scoped>\n",
       "    .dataframe tbody tr th:only-of-type {\n",
       "        vertical-align: middle;\n",
       "    }\n",
       "\n",
       "    .dataframe tbody tr th {\n",
       "        vertical-align: top;\n",
       "    }\n",
       "\n",
       "    .dataframe thead th {\n",
       "        text-align: right;\n",
       "    }\n",
       "</style>\n",
       "<table border=\"1\" class=\"dataframe\">\n",
       "  <thead>\n",
       "    <tr style=\"text-align: right;\">\n",
       "      <th></th>\n",
       "      <th>variantid</th>\n",
       "      <th>main_pic_embeddings_resnet_v1</th>\n",
       "      <th>pic_embeddings_resnet_v1</th>\n",
       "    </tr>\n",
       "  </thead>\n",
       "  <tbody>\n",
       "    <tr>\n",
       "      <th>0</th>\n",
       "      <td>47920382</td>\n",
       "      <td>[[0.8170074820518494, 0.9416620135307312, 0.31...</td>\n",
       "      <td>[[0.20931944251060486, -0.29257065057754517, -...</td>\n",
       "    </tr>\n",
       "    <tr>\n",
       "      <th>1</th>\n",
       "      <td>49801845</td>\n",
       "      <td>[[-0.43339717388153076, -0.17318281531333923, ...</td>\n",
       "      <td>None</td>\n",
       "    </tr>\n",
       "    <tr>\n",
       "      <th>2</th>\n",
       "      <td>49853444</td>\n",
       "      <td>[[0.11314830183982849, -0.34010639786720276, -...</td>\n",
       "      <td>None</td>\n",
       "    </tr>\n",
       "    <tr>\n",
       "      <th>3</th>\n",
       "      <td>49893028</td>\n",
       "      <td>[[0.25037717819213867, 0.33753663301467896, 0....</td>\n",
       "      <td>None</td>\n",
       "    </tr>\n",
       "    <tr>\n",
       "      <th>4</th>\n",
       "      <td>49987483</td>\n",
       "      <td>[[0.43453288078308105, 0.09419603645801544, -0...</td>\n",
       "      <td>[[-0.18672508001327515, -0.2851635217666626, -...</td>\n",
       "    </tr>\n",
       "  </tbody>\n",
       "</table>\n",
       "</div>"
      ],
      "text/plain": [
       "   variantid                      main_pic_embeddings_resnet_v1  \\\n",
       "0   47920382  [[0.8170074820518494, 0.9416620135307312, 0.31...   \n",
       "1   49801845  [[-0.43339717388153076, -0.17318281531333923, ...   \n",
       "2   49853444  [[0.11314830183982849, -0.34010639786720276, -...   \n",
       "3   49893028  [[0.25037717819213867, 0.33753663301467896, 0....   \n",
       "4   49987483  [[0.43453288078308105, 0.09419603645801544, -0...   \n",
       "\n",
       "                            pic_embeddings_resnet_v1  \n",
       "0  [[0.20931944251060486, -0.29257065057754517, -...  \n",
       "1                                               None  \n",
       "2                                               None  \n",
       "3                                               None  \n",
       "4  [[-0.18672508001327515, -0.2851635217666626, -...  "
      ]
     },
     "execution_count": 4,
     "metadata": {},
     "output_type": "execute_result"
    }
   ],
   "source": [
    "batch.head()"
   ]
  },
  {
   "cell_type": "code",
   "execution_count": 19,
   "metadata": {},
   "outputs": [],
   "source": [
    "arr = torch.tensor(np.array(batch['main_pic_embeddings_resnet_v1']).tolist(), dtype=torch.float32)"
   ]
  },
  {
   "cell_type": "code",
   "execution_count": 21,
   "metadata": {},
   "outputs": [
    {
     "data": {
      "text/plain": [
       "torch.Size([10000, 1, 128])"
      ]
     },
     "execution_count": 21,
     "metadata": {},
     "output_type": "execute_result"
    }
   ],
   "source": [
    "arr.shape\n"
   ]
  },
  {
   "cell_type": "code",
   "execution_count": null,
   "metadata": {},
   "outputs": [],
   "source": [
    "from torch.utils.data import Dataset, DataLoader\n",
    "\n",
    "class SiameseDataset(Dataset):\n",
    "    def __init__(self, dataframe):\n",
    "        self.dataframe = dataframe\n",
    "\n",
    "    def __len__(self):\n",
    "        return len(self.dataframe)\n",
    "\n",
    "    def __getitem__(self, idx):\n",
    "        # Get the tensors and label from the dataframe\n",
    "        tensor1 = torch.tensor(self.dataframe.iloc[idx, 0])\n",
    "        tensor2 = torch.tensor(self.dataframe.iloc[idx, 1])\n",
    "        label = torch.tensor(self.dataframe.iloc[idx, 2])\n",
    "        \n",
    "        return tensor1, tensor2, label\n",
    "\n",
    "# Load your dataframe\n",
    "dataframe = pd.read_csv('../data/train/siamence_main_pic.parquet')\n",
    "\n",
    "# Initialize the dataset and dataloader\n",
    "dataset = SiameseDataset(dataframe)\n",
    "dataloader = DataLoader(dataset, batch_size=32, shuffle=True)"
   ]
  },
  {
   "cell_type": "code",
   "execution_count": null,
   "metadata": {},
   "outputs": [],
   "source": [
    "import torch.nn as nn\n",
    "import torch.functional as F\n",
    "\n",
    "class SiamenceNetwork(nn.Module):\n",
    "    def __init__(self):\n",
    "        super(SiamenceNetwork, self).__init__()\n",
    "        self.fc = nn.Sequential(\n",
    "            nn.Linear(128,64),\n",
    "            nn.ReLU(),\n",
    "            nn.Linear(64, 32),\n",
    "            nn.ReLu(),\n",
    "            nn.Linear(32, 10)\n",
    "        )\n",
    "        \n",
    "    def forward_one(self, x):\n",
    "        return self.fc(x)\n",
    "    \n",
    "    def forward(self, input1, input2):\n",
    "        outpu1 = self.forward_one(input1)\n",
    "        outpu2 = self.forward_one(input2)\n",
    "        return outpu1, outpu2"
   ]
  },
  {
   "cell_type": "code",
   "execution_count": null,
   "metadata": {},
   "outputs": [],
   "source": []
  }
 ],
 "metadata": {
  "kernelspec": {
   "display_name": ".venv",
   "language": "python",
   "name": "python3"
  },
  "language_info": {
   "codemirror_mode": {
    "name": "ipython",
    "version": 3
   },
   "file_extension": ".py",
   "mimetype": "text/x-python",
   "name": "python",
   "nbconvert_exporter": "python",
   "pygments_lexer": "ipython3",
   "version": "3.11.9"
  }
 },
 "nbformat": 4,
 "nbformat_minor": 2
}
