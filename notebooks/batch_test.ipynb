{
 "cells": [
  {
   "cell_type": "code",
   "id": "446e2a3132bcdef6",
   "metadata": {
    "ExecuteTime": {
     "end_time": "2024-08-23T14:09:34.109238Z",
     "start_time": "2024-08-23T14:09:34.082327Z"
    }
   },
   "source": [
    "import sys\n",
    "import os\n",
    "\n",
    "sys.path.append(os.path.abspath(os.path.join(os.getcwd(), '..')))"
   ],
   "outputs": [],
   "execution_count": 5
  },
  {
   "cell_type": "code",
   "id": "df9fc37c0ff1ffec",
   "metadata": {
    "ExecuteTime": {
     "end_time": "2024-08-23T14:14:24.735595Z",
     "start_time": "2024-08-23T14:13:34.139613Z"
    }
   },
   "source": [
    "\n",
    "from src.main import read_parquet_in_batches\n",
    "\n",
    "train_path = '../data/train/train.parquet'\n",
    "resnet_path = '../data/train/resnet.parquet'\n",
    "text_and_bert_path = '../data/train/text_and_bert.parquet'\n",
    "attributes_path = '../data/train/attributes.parquet'\n",
    "\n",
    "df = read_parquet_in_batches(attributes_path)\n"
   ],
   "outputs": [
    {
     "name": "stdout",
     "output_type": "stream",
     "text": [
      "Progress: 2.91%\n",
      "Progress: 5.82%\n",
      "Progress: 8.73%\n",
      "Progress: 11.64%\n",
      "Progress: 14.55%\n",
      "Progress: 17.46%\n",
      "Progress: 20.37%\n",
      "Progress: 23.28%\n",
      "Progress: 26.18%\n",
      "Progress: 29.09%\n",
      "Progress: 32.00%\n",
      "Progress: 34.91%\n",
      "Progress: 37.82%\n",
      "Progress: 40.73%\n",
      "Progress: 43.64%\n",
      "Progress: 46.55%\n",
      "Progress: 49.46%\n",
      "Progress: 52.37%\n",
      "Progress: 55.28%\n",
      "Progress: 58.19%\n",
      "Progress: 61.10%\n",
      "Progress: 64.01%\n",
      "Progress: 66.92%\n",
      "Progress: 69.83%\n",
      "Progress: 72.73%\n",
      "Progress: 75.64%\n",
      "Progress: 78.55%\n",
      "Progress: 81.46%\n",
      "Progress: 84.37%\n",
      "Progress: 87.28%\n",
      "Progress: 90.19%\n",
      "Progress: 93.10%\n",
      "Progress: 96.01%\n",
      "Progress: 98.92%\n",
      "Progress: 100.00%\n"
     ]
    }
   ],
   "execution_count": 10
  },
  {
   "metadata": {
    "ExecuteTime": {
     "end_time": "2024-08-23T14:17:57.155511Z",
     "start_time": "2024-08-23T14:17:57.084411Z"
    }
   },
   "cell_type": "code",
   "source": "df.head()",
   "id": "58eec86d6723b9ec",
   "outputs": [
    {
     "data": {
      "text/plain": [
       "   variantid                                         categories  \\\n",
       "0   47920382  {\"1\": \"EPG\", \"2\": \"Детские товары\", \"3\": \"Игру...   \n",
       "1   49801845  {\"1\": \"EPG\", \"2\": \"Хобби и творчество\", \"3\": \"...   \n",
       "2   49853444  {\"1\": \"EPG\", \"2\": \"Хобби и творчество\", \"3\": \"...   \n",
       "3   49893028  {\"1\": \"EPG\", \"2\": \"Хобби и творчество\", \"3\": \"...   \n",
       "4   49987483  {\"1\": \"EPG\", \"2\": \"Хобби и творчество\", \"3\": \"...   \n",
       "\n",
       "                   characteristic_attributes_mapping  \n",
       "0  {\"Цвет товара\": [\"бежевый\", \"светло-розовый\"],...  \n",
       "1  {\"Количество в упаковке, шт\": [\"1\"], \"Бренд\": ...  \n",
       "2  {\"Бренд\": [\"Vervaco\"], \"Тип\": [\"Набор для выши...  \n",
       "3  {\"Цвет товара\": [\"серый\"], \"Ширина, см\": [\"0.8...  \n",
       "4  {\"Цвет товара\": [\"разноцветный\"], \"Название цв...  "
      ],
      "text/html": [
       "<div>\n",
       "<style scoped>\n",
       "    .dataframe tbody tr th:only-of-type {\n",
       "        vertical-align: middle;\n",
       "    }\n",
       "\n",
       "    .dataframe tbody tr th {\n",
       "        vertical-align: top;\n",
       "    }\n",
       "\n",
       "    .dataframe thead th {\n",
       "        text-align: right;\n",
       "    }\n",
       "</style>\n",
       "<table border=\"1\" class=\"dataframe\">\n",
       "  <thead>\n",
       "    <tr style=\"text-align: right;\">\n",
       "      <th></th>\n",
       "      <th>variantid</th>\n",
       "      <th>categories</th>\n",
       "      <th>characteristic_attributes_mapping</th>\n",
       "    </tr>\n",
       "  </thead>\n",
       "  <tbody>\n",
       "    <tr>\n",
       "      <th>0</th>\n",
       "      <td>47920382</td>\n",
       "      <td>{\"1\": \"EPG\", \"2\": \"Детские товары\", \"3\": \"Игру...</td>\n",
       "      <td>{\"Цвет товара\": [\"бежевый\", \"светло-розовый\"],...</td>\n",
       "    </tr>\n",
       "    <tr>\n",
       "      <th>1</th>\n",
       "      <td>49801845</td>\n",
       "      <td>{\"1\": \"EPG\", \"2\": \"Хобби и творчество\", \"3\": \"...</td>\n",
       "      <td>{\"Количество в упаковке, шт\": [\"1\"], \"Бренд\": ...</td>\n",
       "    </tr>\n",
       "    <tr>\n",
       "      <th>2</th>\n",
       "      <td>49853444</td>\n",
       "      <td>{\"1\": \"EPG\", \"2\": \"Хобби и творчество\", \"3\": \"...</td>\n",
       "      <td>{\"Бренд\": [\"Vervaco\"], \"Тип\": [\"Набор для выши...</td>\n",
       "    </tr>\n",
       "    <tr>\n",
       "      <th>3</th>\n",
       "      <td>49893028</td>\n",
       "      <td>{\"1\": \"EPG\", \"2\": \"Хобби и творчество\", \"3\": \"...</td>\n",
       "      <td>{\"Цвет товара\": [\"серый\"], \"Ширина, см\": [\"0.8...</td>\n",
       "    </tr>\n",
       "    <tr>\n",
       "      <th>4</th>\n",
       "      <td>49987483</td>\n",
       "      <td>{\"1\": \"EPG\", \"2\": \"Хобби и творчество\", \"3\": \"...</td>\n",
       "      <td>{\"Цвет товара\": [\"разноцветный\"], \"Название цв...</td>\n",
       "    </tr>\n",
       "  </tbody>\n",
       "</table>\n",
       "</div>"
      ]
     },
     "execution_count": 12,
     "metadata": {},
     "output_type": "execute_result"
    }
   ],
   "execution_count": 12
  },
  {
   "metadata": {},
   "cell_type": "code",
   "outputs": [],
   "execution_count": null,
   "source": "",
   "id": "a49e767561549364"
  }
 ],
 "metadata": {
  "kernelspec": {
   "display_name": "tovarov-5699",
   "language": "python",
   "name": "tovarov-5699"
  },
  "language_info": {
   "codemirror_mode": {
    "name": "ipython",
    "version": 3
   },
   "file_extension": ".py",
   "mimetype": "text/x-python",
   "name": "python",
   "nbconvert_exporter": "python",
   "pygments_lexer": "ipython3",
   "version": "3.11.9"
  }
 },
 "nbformat": 4,
 "nbformat_minor": 5
}
