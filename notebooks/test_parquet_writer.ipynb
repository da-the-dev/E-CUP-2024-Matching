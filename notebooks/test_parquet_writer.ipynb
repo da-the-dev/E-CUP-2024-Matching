{
 "cells": [
  {
   "cell_type": "code",
   "execution_count": 1,
   "metadata": {},
   "outputs": [],
   "source": [
    "import sys\n",
    "import os\n",
    "\n",
    "# Add the project root directory to sys.path\n",
    "sys.path.append(os.path.abspath(os.path.join(os.getcwd(), '..')))"
   ]
  },
  {
   "cell_type": "code",
   "execution_count": 2,
   "metadata": {},
   "outputs": [],
   "source": [
    "import pandas as pd\n",
    "import pyarrow.parquet as pq\n",
    "from pandas import DataFrame"
   ]
  },
  {
   "cell_type": "code",
   "execution_count": 3,
   "metadata": {},
   "outputs": [
    {
     "name": "stderr",
     "output_type": "stream",
     "text": [
      "/home/sv-cheats-1/Documents/PROJECTS/matching-tovarov-5699/.venv/lib/python3.11/site-packages/tqdm/auto.py:21: TqdmWarning: IProgress not found. Please update jupyter and ipywidgets. See https://ipywidgets.readthedocs.io/en/stable/user_install.html\n",
      "  from .autonotebook import tqdm as notebook_tqdm\n"
     ]
    }
   ],
   "source": [
    "from sklearn.pipeline import Pipeline\n",
    "from src.parquet_zavod import parquet_zavod\n",
    "from src.transformations import (\n",
    "    attr_transformer,\n",
    "    bert_64_transformer,\n",
    "    categories_transformer,\n",
    ")\n",
    "from transformers import BertModel, BertTokenizer\n",
    "\n",
    "tokenizer = BertTokenizer.from_pretrained(\"sergeyzh/rubert-tiny-turbo\")\n",
    "model = BertModel.from_pretrained(\"sergeyzh/rubert-tiny-turbo\")\n",
    "\n",
    "pipeline = Pipeline(\n",
    "    [   \n",
    "        (\"categories_initial\", categories_transformer(\"categories\")),\n",
    "        (\"attr_initial\", attr_transformer(\"characteristic_attributes_mapping\")),\n",
    "        (\"categories_embed\", bert_64_transformer(model, tokenizer, \"categories\")),\n",
    "        (\n",
    "            \"attr_embed\",\n",
    "            bert_64_transformer(model, tokenizer, \"characteristic_attributes_mapping\"),\n",
    "        ),\n",
    "    ]\n",
    ")"
   ]
  },
  {
   "cell_type": "code",
   "execution_count": 4,
   "metadata": {},
   "outputs": [],
   "source": [
    "import pandas as pd\n",
    "import pyarrow.parquet as pq\n",
    "import pyarrow as pa\n",
    "from pandas import DataFrame\n",
    "\n",
    "\n",
    "def load_data(path):\n",
    "    parquet_file = pq.ParquetFile(path)\n",
    "\n",
    "\n",
    "    batch = next(parquet_file.iter_batches(batch_size=64))\n",
    "    df: DataFrame = batch.to_pandas()\n",
    "    return df\n",
    "\n",
    "df = load_data(\"../data/train/merged_data.parquet\")     \n"
   ]
  },
  {
   "cell_type": "code",
   "execution_count": 5,
   "metadata": {},
   "outputs": [],
   "source": [
    "schema = pa.Table.from_pandas(pipeline.transform(df)).schema"
   ]
  },
  {
   "cell_type": "code",
   "execution_count": 6,
   "metadata": {},
   "outputs": [
    {
     "data": {
      "text/plain": [
       "variantid: int64\n",
       "categories: list<item: float>\n",
       "  child 0, item: float\n",
       "characteristic_attributes_mapping: list<item: float>\n",
       "  child 0, item: float\n",
       "main_pic_embeddings_resnet_v1: list<item: list<item: double>>\n",
       "  child 0, item: list<item: double>\n",
       "      child 0, item: double\n",
       "pic_embeddings_resnet_v1: list<item: list<item: double>>\n",
       "  child 0, item: list<item: double>\n",
       "      child 0, item: double\n",
       "name: string\n",
       "description: string\n",
       "name_bert_64: list<item: double>\n",
       "  child 0, item: double\n",
       "-- schema metadata --\n",
       "pandas: '{\"index_columns\": [{\"kind\": \"range\", \"name\": null, \"start\": 0, \"' + 1363"
      ]
     },
     "execution_count": 6,
     "metadata": {},
     "output_type": "execute_result"
    }
   ],
   "source": [
    "schema"
   ]
  },
  {
   "cell_type": "code",
   "execution_count": 7,
   "metadata": {},
   "outputs": [
    {
     "name": "stdout",
     "output_type": "stream",
     "text": [
      "ZOVod started...\n"
     ]
    },
    {
     "name": "stderr",
     "output_type": "stream",
     "text": [
      "Processing: 100%|██████████| 2252569/2252569 [1:07:42<00:00, 554.45rows/s]\n"
     ]
    }
   ],
   "source": [
    "parquet_zavod(\n",
    "    \"../data/train/merged_data.parquet\",\n",
    "    \"../data/train/merged_data_prikol.parquet\",\n",
    "    schema,\n",
    "    pipeline.transform,\n",
    "    10_000,\n",
    ")"
   ]
  }
 ],
 "metadata": {
  "kernelspec": {
   "display_name": ".venv",
   "language": "python",
   "name": "python3"
  },
  "language_info": {
   "codemirror_mode": {
    "name": "ipython",
    "version": 3
   },
   "file_extension": ".py",
   "mimetype": "text/x-python",
   "name": "python",
   "nbconvert_exporter": "python",
   "pygments_lexer": "ipython3",
   "version": "3.11.9"
  }
 },
 "nbformat": 4,
 "nbformat_minor": 2
}
