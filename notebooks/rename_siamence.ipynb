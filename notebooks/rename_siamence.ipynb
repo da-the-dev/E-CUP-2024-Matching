{
 "cells": [
  {
   "cell_type": "code",
   "execution_count": 1,
   "metadata": {},
   "outputs": [],
   "source": [
    "import pandas as pd\n",
    "import numpy as np\n",
    "import pyarrow.parquet as pq"
   ]
  },
  {
   "cell_type": "code",
   "execution_count": 2,
   "metadata": {},
   "outputs": [],
   "source": [
    "def read_parquet_in_batches(file_path: str, batch_size=10000):\n",
    "\n",
    "    parquet_file = pq.ParquetFile(file_path)\n",
    "\n",
    "    total_rows = parquet_file.metadata.num_rows\n",
    "    processed_rows = 0\n",
    "    batches = []\n",
    "\n",
    "    for batch in parquet_file.iter_batches(batch_size=batch_size):\n",
    "        batch_df = batch.to_pandas()\n",
    "\n",
    "        processed_rows += len(batch_df)\n",
    "        progress = (processed_rows / total_rows) * 100\n",
    "        print(f'Progress: {progress:.2f}%')\n",
    "        \n",
    "        yield batch_df"
   ]
  },
  {
   "cell_type": "code",
   "execution_count": 8,
   "metadata": {},
   "outputs": [
    {
     "name": "stdout",
     "output_type": "stream",
     "text": [
      "Progress: 0.86%\n"
     ]
    }
   ],
   "source": [
    "# Initialize an empty list to collect processed batches\n",
    "batches = []\n",
    "\n",
    "# Iterate over the train parquet file in batches\n",
    "for train_batch in read_parquet_in_batches(file_path='../data/train/train.parquet'):\n",
    "    # Add new columns and set them to NaN\n",
    "    train_batch['main_pic1'] = np.nan\n",
    "    train_batch['main_pic2'] = np.nan\n",
    "    \n",
    "    # Read the entire pic parquet file into a DataFrame and set its index\n",
    "    pic_df = pd.read_parquet('../data/train/resnet.parquet').set_index('variantid')\n",
    "    \n",
    "    # Map the embeddings to the respective columns using the variant IDs\n",
    "    train_batch['main_pic1'] = train_batch['variantid1'].map(pic_df['main_pic_embeddings_resnet_v1'])\n",
    "    train_batch['main_pic2'] = train_batch['variantid2'].map(pic_df['main_pic_embeddings_resnet_v1'])\n",
    "    \n",
    "    # Collect the processed batch\n",
    "    batches.append(train_batch)\n",
    "\n",
    "# Concatenate all processed batches and save to a single Parquet file\n",
    "if batches:\n",
    "    final_df = pd.concat(batches)\n",
    "    final_df.to_parquet('../data/train/siamence_main_pic.parquet')"
   ]
  },
  {
   "cell_type": "code",
   "execution_count": null,
   "metadata": {},
   "outputs": [],
   "source": []
  }
 ],
 "metadata": {
  "kernelspec": {
   "display_name": ".venv",
   "language": "python",
   "name": "python3"
  },
  "language_info": {
   "codemirror_mode": {
    "name": "ipython",
    "version": 3
   },
   "file_extension": ".py",
   "mimetype": "text/x-python",
   "name": "python",
   "nbconvert_exporter": "python",
   "pygments_lexer": "ipython3",
   "version": "3.11.9"
  }
 },
 "nbformat": 4,
 "nbformat_minor": 2
}
